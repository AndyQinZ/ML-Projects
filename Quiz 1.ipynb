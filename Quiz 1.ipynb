{
  "nbformat": 4,
  "nbformat_minor": 0,
  "metadata": {
    "colab": {
      "name": "Untitled5.ipynb",
      "provenance": []
    },
    "kernelspec": {
      "name": "python3",
      "display_name": "Python 3"
    },
    "language_info": {
      "name": "python"
    }
  },
  "cells": [
    {
      "cell_type": "code",
      "execution_count": 6,
      "metadata": {
        "id": "g_RRKk4-884I"
      },
      "outputs": [],
      "source": [
        "#Q1\n",
        "def q1(o_list):\n",
        "  n_list=[]\n",
        "  for i in range(len(o_list)):\n",
        "    n_list.append(o_list[i]**2)\n",
        "  return n_list\n"
      ]
    },
    {
      "cell_type": "code",
      "source": [
        "q1([1,2,3,4])"
      ],
      "metadata": {
        "colab": {
          "base_uri": "https://localhost:8080/"
        },
        "id": "ZQH62jxF-NvW",
        "outputId": "1e3a7e22-170b-4653-c525-f5bb952e84e7"
      },
      "execution_count": 5,
      "outputs": [
        {
          "output_type": "execute_result",
          "data": {
            "text/plain": [
              "[1, 4, 9, 16]"
            ]
          },
          "metadata": {},
          "execution_count": 5
        }
      ]
    },
    {
      "cell_type": "code",
      "source": [
        "#Q2\n",
        "def q2(n,m):\n",
        "  count=0\n",
        "  isPrime=False\n",
        "  if n>m:\n",
        "    print(\"Please enter smaller number first\")\n",
        "  if m<=1:\n",
        "    return count\n",
        "  if n==2 or n==3:\n",
        "    count=count+1\n",
        "  for val in range(n, m+1):\n",
        "    if val > 1:\n",
        "     for i in range(2, val):\n",
        "       if val % i == 0:\n",
        "         isPrime=False\n",
        "         break\n",
        "       else:\n",
        "         isPrime=True\n",
        "    if isPrime:\n",
        "      count=count+1\n",
        "      isPrime=False\n",
        "  return count\n"
      ],
      "metadata": {
        "id": "EZNsyo3F_VoX"
      },
      "execution_count": 2,
      "outputs": []
    },
    {
      "cell_type": "code",
      "source": [
        "q2(2,16)"
      ],
      "metadata": {
        "colab": {
          "base_uri": "https://localhost:8080/"
        },
        "id": "Tzghv1obgt7O",
        "outputId": "ca052cce-bf58-43d6-dafa-98ee3f1a60f8"
      },
      "execution_count": 3,
      "outputs": [
        {
          "output_type": "execute_result",
          "data": {
            "text/plain": [
              "6"
            ]
          },
          "metadata": {},
          "execution_count": 3
        }
      ]
    },
    {
      "cell_type": "code",
      "source": [
        "n=2\n",
        "while n<8:\n",
        "  for i in range (2,n):\n",
        "    if i%4==0:\n",
        "      break\n",
        "    else:\n",
        "      print(n)\n",
        "  n=n+1"
      ],
      "metadata": {
        "colab": {
          "base_uri": "https://localhost:8080/"
        },
        "id": "anI6IZS7mZv5",
        "outputId": "d963f29e-e61e-4c97-d51e-9f1a154daab9"
      },
      "execution_count": 68,
      "outputs": [
        {
          "output_type": "stream",
          "name": "stdout",
          "text": [
            "3\n",
            "4\n",
            "4\n",
            "5\n",
            "5\n",
            "6\n",
            "6\n",
            "7\n",
            "7\n"
          ]
        }
      ]
    },
    {
      "cell_type": "code",
      "source": [
        "for i in range (2,2):\n",
        "  print(i)"
      ],
      "metadata": {
        "id": "tevcKeY8uk18"
      },
      "execution_count": 73,
      "outputs": []
    },
    {
      "cell_type": "code",
      "source": [
        "#Q3\n",
        "def q3(n):\n",
        "  total=1\n",
        "  for i in range(2,n+1):\n",
        "    if (i%5==0 or i%7==0):\n",
        "      total=total\n",
        "    else:\n",
        "      total=total+i\n",
        "  return total\n"
      ],
      "metadata": {
        "id": "QcxlUQFXB04N"
      },
      "execution_count": 20,
      "outputs": []
    },
    {
      "cell_type": "code",
      "source": [
        "q3(15)"
      ],
      "metadata": {
        "colab": {
          "base_uri": "https://localhost:8080/"
        },
        "id": "dmGNJyQXETXc",
        "outputId": "be38edf1-2091-4a5a-deff-134d584f6ee7"
      },
      "execution_count": 22,
      "outputs": [
        {
          "output_type": "execute_result",
          "data": {
            "text/plain": [
              "69"
            ]
          },
          "metadata": {},
          "execution_count": 22
        }
      ]
    }
  ]
}
